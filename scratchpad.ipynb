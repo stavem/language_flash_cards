{
 "cells": [
  {
   "cell_type": "code",
   "execution_count": null,
   "metadata": {
    "collapsed": true
   },
   "outputs": [],
   "source": [
    "from gtts import gTTS\n",
    "from googletrans import Translator\n"
   ]
  },
  {
   "cell_type": "code",
   "execution_count": null,
   "outputs": [],
   "source": [
    "tts = gTTS('Voce pode me ajudar', lang='pt', tld='com.br')"
   ],
   "metadata": {
    "collapsed": false
   }
  },
  {
   "cell_type": "code",
   "execution_count": null,
   "outputs": [],
   "source": [
    "tts.text\n",
    "tts.lang\n",
    "tts.save('./output/test.mp3')"
   ],
   "metadata": {
    "collapsed": false
   }
  },
  {
   "cell_type": "code",
   "execution_count": null,
   "outputs": [],
   "source": [
    "def determine_language(language='Portuguese (Brazilian)'):\n",
    "    \"\"\"\n",
    "    Convert the language selected by each user into the appropriate abbreviated version\n",
    "    for Google Translate\n",
    "    \"\"\"\n",
    "\n",
    "    lang_dict = {\n",
    "        'Portuguese (Brazilian)' : 'pt',\n",
    "        'Spanish (Mexican)': 'es',\n",
    "        }\n",
    "\n",
    "    return lang_dict.get(language)\n"
   ],
   "metadata": {
    "collapsed": false
   }
  },
  {
   "cell_type": "code",
   "execution_count": null,
   "outputs": [],
   "source": [
    "def read_and_record(word, filepath, lang='pt', localization='com.br'):\n",
    "    \"\"\"Read each word and save the mp3 file in the correct location.\n",
    "    Full localized accents can be found here:\n",
    "    https://gtts.readthedocs.io/en/latest/module.html#playing-sound-directly\"\"\"\n",
    "\n",
    "    w = word\n",
    "    tts = gTTS(w, lang='pt', tld='com.br')\n",
    "\n",
    "    # replace all special characters before saving\n",
    "    w = w.replace('/', '_')\n",
    "    w = w.replace('?', '')\n",
    "    w = w.replace('¿','')\n",
    "    w = w.replace('!', '')\n",
    "    w = w.replace('.', '_')\n",
    "    w = w.replace(' ', '_')\n",
    "\n",
    "    new_filename = w + '.mp3'\n",
    "\n",
    "    tts.save(filepath + '/' + new_filename)\n",
    "\n",
    "    return new_filename\n"
   ],
   "metadata": {
    "collapsed": false
   }
  },
  {
   "cell_type": "code",
   "execution_count": 3,
   "outputs": [],
   "source": [
    "def translate_text(raw_text, source, destination='en'):\n",
    "\n",
    "    # create a translator object for text translations\n",
    "    translator = Translator()\n",
    "\n",
    "\n",
    "    # return object with translations\n",
    "    result = translator.translate(raw_text, src = source, dest = destination)\n",
    "\n",
    "    return result\n"
   ],
   "metadata": {
    "collapsed": false
   }
  },
  {
   "cell_type": "code",
   "execution_count": null,
   "outputs": [],
   "source": [
    "lang = determine_language(selected_language)"
   ],
   "metadata": {
    "collapsed": false
   }
  },
  {
   "cell_type": "code",
   "execution_count": 1,
   "outputs": [
    {
     "data": {
      "text/plain": "<googletrans.models.Translated at 0x7fccfa293430>"
     },
     "execution_count": 1,
     "metadata": {},
     "output_type": "execute_result"
    }
   ],
   "source": [
    "from googletrans import Translator\n",
    "\n",
    "translator = Translator()\n",
    "\n",
    "translator.translate('Hi', src='en', dest='pt')"
   ],
   "metadata": {
    "collapsed": false
   }
  },
  {
   "cell_type": "code",
   "execution_count": 5,
   "outputs": [
    {
     "data": {
      "text/plain": "<googletrans.models.Translated at 0x7fcce828b3d0>"
     },
     "execution_count": 5,
     "metadata": {},
     "output_type": "execute_result"
    }
   ],
   "source": [
    "translate_text('hi', 'pt')\n"
   ],
   "metadata": {
    "collapsed": false
   }
  },
  {
   "cell_type": "code",
   "execution_count": 20,
   "outputs": [],
   "source": [
    "my_list = ('hebrew', 'hebrew')"
   ],
   "metadata": {
    "collapsed": false
   }
  },
  {
   "cell_type": "code",
   "execution_count": 21,
   "outputs": [
    {
     "data": {
      "text/plain": "2"
     },
     "execution_count": 21,
     "metadata": {},
     "output_type": "execute_result"
    }
   ],
   "source": [
    "len(my_list)"
   ],
   "metadata": {
    "collapsed": false
   }
  },
  {
   "cell_type": "code",
   "execution_count": 26,
   "outputs": [
    {
     "data": {
      "text/plain": "'2023_05_22-11_12_25_AM'"
     },
     "execution_count": 26,
     "metadata": {},
     "output_type": "execute_result"
    }
   ],
   "source": [
    "from datetime import datetime\n",
    "\n",
    "datetime.now().strftime(\"%Y_%m_%d-%I_%M_%S_%p\")"
   ],
   "metadata": {
    "collapsed": false
   }
  },
  {
   "cell_type": "code",
   "execution_count": 25,
   "outputs": [
    {
     "data": {
      "text/plain": "'sdfjksadf'"
     },
     "execution_count": 25,
     "metadata": {},
     "output_type": "execute_result"
    }
   ],
   "source": [
    "w = '¿sdfjk;sadf!$#%^'\n",
    "s = ''.join(filter(str.isalnum, w))\n",
    "s"
   ],
   "metadata": {
    "collapsed": false
   }
  },
  {
   "cell_type": "code",
   "execution_count": 30,
   "outputs": [],
   "source": [
    "AVAILABLE_LANGUAGES_DISTINCT_SET = set(val for dic in [googletrans.LANGUAGES] for val in googletrans.LANGUAGES.values())"
   ],
   "metadata": {
    "collapsed": false
   }
  },
  {
   "cell_type": "code",
   "execution_count": 32,
   "outputs": [
    {
     "ename": "TypeError",
     "evalue": "pop() takes no arguments (1 given)",
     "output_type": "error",
     "traceback": [
      "\u001B[0;31m---------------------------------------------------------------------------\u001B[0m",
      "\u001B[0;31mTypeError\u001B[0m                                 Traceback (most recent call last)",
      "Cell \u001B[0;32mIn[32], line 1\u001B[0m\n\u001B[0;32m----> 1\u001B[0m \u001B[43mAVAILABLE_LANGUAGES_DISTINCT_SET\u001B[49m\u001B[38;5;241;43m.\u001B[39;49m\u001B[43mpop\u001B[49m\u001B[43m(\u001B[49m\u001B[38;5;124;43m'\u001B[39;49m\u001B[38;5;124;43menglish\u001B[39;49m\u001B[38;5;124;43m'\u001B[39;49m\u001B[43m)\u001B[49m\n",
      "\u001B[0;31mTypeError\u001B[0m: pop() takes no arguments (1 given)"
     ]
    }
   ],
   "source": [
    "AVAILABLE_LANGUAGES_DISTINCT_SET.pop('')"
   ],
   "metadata": {
    "collapsed": false
   }
  },
  {
   "cell_type": "code",
   "execution_count": 34,
   "outputs": [
    {
     "data": {
      "text/plain": "Index(['source', 'destination', 'audio', 'tags'], dtype='object')"
     },
     "execution_count": 34,
     "metadata": {},
     "output_type": "execute_result"
    }
   ],
   "source": [
    "import pandas as pd\n",
    "df = pd.read_csv('./input/tester.csv')\n",
    "\n",
    "df.columns = map(str.lower, df.columns)\n",
    "\n",
    "df.columns"
   ],
   "metadata": {
    "collapsed": false
   }
  },
  {
   "cell_type": "code",
   "execution_count": 35,
   "outputs": [
    {
     "data": {
      "text/plain": "{'af': 'afrikaans',\n 'sq': 'albanian',\n 'am': 'amharic',\n 'ar': 'arabic',\n 'hy': 'armenian',\n 'az': 'azerbaijani',\n 'eu': 'basque',\n 'be': 'belarusian',\n 'bn': 'bengali',\n 'bs': 'bosnian',\n 'bg': 'bulgarian',\n 'ca': 'catalan',\n 'ceb': 'cebuano',\n 'ny': 'chichewa',\n 'zh-cn': 'chinese (simplified)',\n 'zh-tw': 'chinese (traditional)',\n 'co': 'corsican',\n 'hr': 'croatian',\n 'cs': 'czech',\n 'da': 'danish',\n 'nl': 'dutch',\n 'en': 'english',\n 'eo': 'esperanto',\n 'et': 'estonian',\n 'tl': 'filipino',\n 'fi': 'finnish',\n 'fr': 'french',\n 'fy': 'frisian',\n 'gl': 'galician',\n 'ka': 'georgian',\n 'de': 'german',\n 'el': 'greek',\n 'gu': 'gujarati',\n 'ht': 'haitian creole',\n 'ha': 'hausa',\n 'haw': 'hawaiian',\n 'iw': 'hebrew',\n 'he': 'hebrew',\n 'hi': 'hindi',\n 'hmn': 'hmong',\n 'hu': 'hungarian',\n 'is': 'icelandic',\n 'ig': 'igbo',\n 'id': 'indonesian',\n 'ga': 'irish',\n 'it': 'italian',\n 'ja': 'japanese',\n 'jw': 'javanese',\n 'kn': 'kannada',\n 'kk': 'kazakh',\n 'km': 'khmer',\n 'ko': 'korean',\n 'ku': 'kurdish (kurmanji)',\n 'ky': 'kyrgyz',\n 'lo': 'lao',\n 'la': 'latin',\n 'lv': 'latvian',\n 'lt': 'lithuanian',\n 'lb': 'luxembourgish',\n 'mk': 'macedonian',\n 'mg': 'malagasy',\n 'ms': 'malay',\n 'ml': 'malayalam',\n 'mt': 'maltese',\n 'mi': 'maori',\n 'mr': 'marathi',\n 'mn': 'mongolian',\n 'my': 'myanmar (burmese)',\n 'ne': 'nepali',\n 'no': 'norwegian',\n 'or': 'odia',\n 'ps': 'pashto',\n 'fa': 'persian',\n 'pl': 'polish',\n 'pt': 'portuguese',\n 'pa': 'punjabi',\n 'ro': 'romanian',\n 'ru': 'russian',\n 'sm': 'samoan',\n 'gd': 'scots gaelic',\n 'sr': 'serbian',\n 'st': 'sesotho',\n 'sn': 'shona',\n 'sd': 'sindhi',\n 'si': 'sinhala',\n 'sk': 'slovak',\n 'sl': 'slovenian',\n 'so': 'somali',\n 'es': 'spanish',\n 'su': 'sundanese',\n 'sw': 'swahili',\n 'sv': 'swedish',\n 'tg': 'tajik',\n 'ta': 'tamil',\n 'te': 'telugu',\n 'th': 'thai',\n 'tr': 'turkish',\n 'uk': 'ukrainian',\n 'ur': 'urdu',\n 'ug': 'uyghur',\n 'uz': 'uzbek',\n 'vi': 'vietnamese',\n 'cy': 'welsh',\n 'xh': 'xhosa',\n 'yi': 'yiddish',\n 'yo': 'yoruba',\n 'zu': 'zulu'}"
     },
     "execution_count": 35,
     "metadata": {},
     "output_type": "execute_result"
    }
   ],
   "source": [],
   "metadata": {
    "collapsed": false
   }
  },
  {
   "cell_type": "code",
   "execution_count": 13,
   "outputs": [],
   "source": [
    "def get_keys_from_value(d, val):\n",
    "    return [k for k, v in d.items() if v == val]"
   ],
   "metadata": {
    "collapsed": false
   }
  },
  {
   "cell_type": "code",
   "execution_count": 16,
   "outputs": [
    {
     "data": {
      "text/plain": "['pt']"
     },
     "execution_count": 16,
     "metadata": {},
     "output_type": "execute_result"
    }
   ],
   "source": [
    "get_keys_from_value(googletrans.LANGUAGES, 'portuguese')"
   ],
   "metadata": {
    "collapsed": false
   }
  },
  {
   "cell_type": "code",
   "execution_count": 45,
   "outputs": [
    {
     "data": {
      "text/plain": "'chinese (simplified)'"
     },
     "execution_count": 45,
     "metadata": {},
     "output_type": "execute_result"
    }
   ],
   "source": [
    "googletrans.LANGUAGES.get('zh-CN'.lower())"
   ],
   "metadata": {
    "collapsed": false
   }
  },
  {
   "cell_type": "code",
   "execution_count": 48,
   "outputs": [
    {
     "data": {
      "text/plain": "{'af': 'Afrikaans',\n 'ar': 'Arabic',\n 'bg': 'Bulgarian',\n 'bn': 'Bengali',\n 'bs': 'Bosnian',\n 'ca': 'Catalan',\n 'cs': 'Czech',\n 'cy': 'Welsh',\n 'da': 'Danish',\n 'de': 'German',\n 'el': 'Greek',\n 'en': 'English',\n 'eo': 'Esperanto',\n 'es': 'Spanish',\n 'et': 'Estonian',\n 'fi': 'Finnish',\n 'fr': 'French',\n 'gu': 'Gujarati',\n 'hi': 'Hindi',\n 'hr': 'Croatian',\n 'hu': 'Hungarian',\n 'hy': 'Armenian',\n 'id': 'Indonesian',\n 'is': 'Icelandic',\n 'it': 'Italian',\n 'iw': 'Hebrew',\n 'ja': 'Japanese',\n 'jw': 'Javanese',\n 'km': 'Khmer',\n 'kn': 'Kannada',\n 'ko': 'Korean',\n 'la': 'Latin',\n 'lv': 'Latvian',\n 'mk': 'Macedonian',\n 'ms': 'Malay',\n 'ml': 'Malayalam',\n 'mr': 'Marathi',\n 'my': 'Myanmar (Burmese)',\n 'ne': 'Nepali',\n 'nl': 'Dutch',\n 'no': 'Norwegian',\n 'pl': 'Polish',\n 'pt': 'Portuguese',\n 'ro': 'Romanian',\n 'ru': 'Russian',\n 'si': 'Sinhala',\n 'sk': 'Slovak',\n 'sq': 'Albanian',\n 'sr': 'Serbian',\n 'su': 'Sundanese',\n 'sv': 'Swedish',\n 'sw': 'Swahili',\n 'ta': 'Tamil',\n 'te': 'Telugu',\n 'th': 'Thai',\n 'tl': 'Filipino',\n 'tr': 'Turkish',\n 'uk': 'Ukrainian',\n 'ur': 'Urdu',\n 'vi': 'Vietnamese',\n 'zh-CN': 'Chinese',\n 'zh-TW': 'Chinese (Mandarin/Taiwan)',\n 'zh': 'Chinese (Mandarin)'}"
     },
     "execution_count": 48,
     "metadata": {},
     "output_type": "execute_result"
    }
   ],
   "source": [
    "import gtts\n",
    "gtts.lang.tts_langs()\n"
   ],
   "metadata": {
    "collapsed": false
   }
  },
  {
   "cell_type": "code",
   "execution_count": 52,
   "outputs": [
    {
     "data": {
      "text/plain": "'Russian'"
     },
     "execution_count": 52,
     "metadata": {},
     "output_type": "execute_result"
    }
   ],
   "source": [
    "\n",
    "blah = gtts.lang.tts_langs()\n",
    "blah.get('ru')"
   ],
   "metadata": {
    "collapsed": false
   }
  }
 ],
 "metadata": {
  "kernelspec": {
   "display_name": "Python 3",
   "language": "python",
   "name": "python3"
  },
  "language_info": {
   "codemirror_mode": {
    "name": "ipython",
    "version": 2
   },
   "file_extension": ".py",
   "mimetype": "text/x-python",
   "name": "python",
   "nbconvert_exporter": "python",
   "pygments_lexer": "ipython2",
   "version": "2.7.6"
  }
 },
 "nbformat": 4,
 "nbformat_minor": 0
}
