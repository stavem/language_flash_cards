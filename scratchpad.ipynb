{
 "cells": [
  {
   "cell_type": "code",
   "execution_count": 1,
   "outputs": [],
   "source": [
    "import zipfile"
   ],
   "metadata": {
    "collapsed": false
   }
  },
  {
   "cell_type": "code",
   "execution_count": 7,
   "outputs": [],
   "source": [
    "with zipfile.ZipFile('./zip_tester/test.zip', 'a') as myzip:\n",
    "    myzip.write('./zip_tester/obrigado.mp3')\n",
    "    myzip.write('./zip_tester/oi.mp3')"
   ],
   "metadata": {
    "collapsed": false
   }
  },
  {
   "cell_type": "code",
   "execution_count": null,
   "metadata": {
    "collapsed": true
   },
   "outputs": [],
   "source": [
    "from gtts import gTTS\n",
    "from googletrans import Translator\n"
   ]
  },
  {
   "cell_type": "code",
   "execution_count": null,
   "outputs": [],
   "source": [
    "tts = gTTS('Voce pode me ajudar', lang='pt', tld='com.br')"
   ],
   "metadata": {
    "collapsed": false
   }
  },
  {
   "cell_type": "code",
   "execution_count": null,
   "outputs": [],
   "source": [
    "tts.text\n",
    "tts.lang\n",
    "tts.save('./output/test.mp3')"
   ],
   "metadata": {
    "collapsed": false
   }
  },
  {
   "cell_type": "code",
   "execution_count": null,
   "outputs": [],
   "source": [
    "def determine_language(language='Portuguese (Brazilian)'):\n",
    "    \"\"\"\n",
    "    Convert the language selected by each user into the appropriate abbreviated version\n",
    "    for Google Translate\n",
    "    \"\"\"\n",
    "\n",
    "    lang_dict = {\n",
    "        'Portuguese (Brazilian)' : 'pt',\n",
    "        'Spanish (Mexican)': 'es',\n",
    "        }\n",
    "\n",
    "    return lang_dict.get(language)\n"
   ],
   "metadata": {
    "collapsed": false
   }
  },
  {
   "cell_type": "code",
   "execution_count": null,
   "outputs": [],
   "source": [
    "def read_and_record(word, filepath, lang='pt', localization='com.br'):\n",
    "    \"\"\"Read each word and save the mp3 file in the correct location.\n",
    "    Full localized accents can be found here:\n",
    "    https://gtts.readthedocs.io/en/latest/module.html#playing-sound-directly\"\"\"\n",
    "\n",
    "    w = word\n",
    "    tts = gTTS(w, lang='pt', tld='com.br')\n",
    "\n",
    "    # replace all special characters before saving\n",
    "    w = w.replace('/', '_')\n",
    "    w = w.replace('?', '')\n",
    "    w = w.replace('¿','')\n",
    "    w = w.replace('!', '')\n",
    "    w = w.replace('.', '_')\n",
    "    w = w.replace(' ', '_')\n",
    "\n",
    "    new_filename = w + '.mp3'\n",
    "\n",
    "    tts.save(filepath + '/' + new_filename)\n",
    "\n",
    "    return new_filename\n"
   ],
   "metadata": {
    "collapsed": false
   }
  },
  {
   "cell_type": "code",
   "execution_count": null,
   "outputs": [],
   "source": [
    "def translate_text(raw_text, source, destination='en'):\n",
    "\n",
    "    # create a translator object for text translations\n",
    "    translator = Translator()\n",
    "\n",
    "\n",
    "    # return object with translations\n",
    "    result = translator.translate(raw_text, src = source, dest = destination)\n",
    "\n",
    "    return result\n"
   ],
   "metadata": {
    "collapsed": false
   }
  },
  {
   "cell_type": "code",
   "execution_count": null,
   "outputs": [],
   "source": [
    "lang = determine_language(selected_language)"
   ],
   "metadata": {
    "collapsed": false
   }
  },
  {
   "cell_type": "code",
   "execution_count": null,
   "outputs": [],
   "source": [
    "from googletrans import Translator\n",
    "\n",
    "translator = Translator()\n",
    "\n",
    "translator.translate('Hi', src='en', dest='pt')"
   ],
   "metadata": {
    "collapsed": false
   }
  },
  {
   "cell_type": "code",
   "execution_count": null,
   "outputs": [],
   "source": [
    "translate_text('hi', 'pt')\n"
   ],
   "metadata": {
    "collapsed": false
   }
  },
  {
   "cell_type": "code",
   "execution_count": null,
   "outputs": [],
   "source": [
    "my_list = ('hebrew', 'hebrew')"
   ],
   "metadata": {
    "collapsed": false
   }
  },
  {
   "cell_type": "code",
   "execution_count": null,
   "outputs": [],
   "source": [
    "len(my_list)"
   ],
   "metadata": {
    "collapsed": false
   }
  },
  {
   "cell_type": "code",
   "execution_count": null,
   "outputs": [],
   "source": [
    "from datetime import datetime\n",
    "\n",
    "datetime.now().strftime(\"%Y_%m_%d-%I_%M_%S_%p\")"
   ],
   "metadata": {
    "collapsed": false
   }
  },
  {
   "cell_type": "code",
   "execution_count": null,
   "outputs": [],
   "source": [
    "w = '¿sdfjk;sadf!$#%^'\n",
    "s = ''.join(filter(str.isalnum, w))\n",
    "s"
   ],
   "metadata": {
    "collapsed": false
   }
  },
  {
   "cell_type": "code",
   "execution_count": null,
   "outputs": [],
   "source": [
    "AVAILABLE_LANGUAGES_DISTINCT_SET = set(val for dic in [googletrans.LANGUAGES] for val in googletrans.LANGUAGES.values())"
   ],
   "metadata": {
    "collapsed": false
   }
  },
  {
   "cell_type": "code",
   "execution_count": null,
   "outputs": [],
   "source": [
    "AVAILABLE_LANGUAGES_DISTINCT_SET.pop('')"
   ],
   "metadata": {
    "collapsed": false
   }
  },
  {
   "cell_type": "code",
   "execution_count": null,
   "outputs": [],
   "source": [
    "import pandas as pd\n",
    "df = pd.read_csv('./input/tester.csv')\n",
    "\n",
    "df.columns = map(str.lower, df.columns)\n",
    "\n",
    "df.columns"
   ],
   "metadata": {
    "collapsed": false
   }
  },
  {
   "cell_type": "code",
   "execution_count": null,
   "outputs": [],
   "source": [],
   "metadata": {
    "collapsed": false
   }
  },
  {
   "cell_type": "code",
   "execution_count": null,
   "outputs": [],
   "source": [
    "def get_keys_from_value(d, val):\n",
    "    return [k for k, v in d.items() if v == val]"
   ],
   "metadata": {
    "collapsed": false
   }
  },
  {
   "cell_type": "code",
   "execution_count": null,
   "outputs": [],
   "source": [
    "get_keys_from_value(googletrans.LANGUAGES, 'portuguese')"
   ],
   "metadata": {
    "collapsed": false
   }
  },
  {
   "cell_type": "code",
   "execution_count": null,
   "outputs": [],
   "source": [
    "googletrans.LANGUAGES.get('zh-CN'.lower())"
   ],
   "metadata": {
    "collapsed": false
   }
  },
  {
   "cell_type": "code",
   "execution_count": null,
   "outputs": [],
   "source": [
    "import gtts\n",
    "gtts.lang.tts_langs()\n"
   ],
   "metadata": {
    "collapsed": false
   }
  },
  {
   "cell_type": "code",
   "execution_count": null,
   "outputs": [],
   "source": [
    "\n",
    "blah = gtts.lang.tts_langs()\n",
    "blah.get('ru')"
   ],
   "metadata": {
    "collapsed": false
   }
  }
 ],
 "metadata": {
  "kernelspec": {
   "display_name": "Python 3",
   "language": "python",
   "name": "python3"
  },
  "language_info": {
   "codemirror_mode": {
    "name": "ipython",
    "version": 2
   },
   "file_extension": ".py",
   "mimetype": "text/x-python",
   "name": "python",
   "nbconvert_exporter": "python",
   "pygments_lexer": "ipython2",
   "version": "2.7.6"
  }
 },
 "nbformat": 4,
 "nbformat_minor": 0
}
